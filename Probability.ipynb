{
 "cells": [
  {
   "cell_type": "markdown",
   "metadata": {},
   "source": [
    "## 確率"
   ]
  },
  {
   "cell_type": "markdown",
   "metadata": {},
   "source": [
    "### 確率への収束\n",
    "多くの試行を重ねると、(事象の発生数/試行数)が確率に収束していきます。  \n",
    "以下は、サイコロを何度も振って5が出た回数を数え、(5が出た回数/振った回数)の変遷を表示するコードです。"
   ]
  },
  {
   "cell_type": "code",
   "execution_count": 1,
   "metadata": {},
   "outputs": [
    {
     "data": {
      "image/png": "[encoded data removed]",
      "text/plain": [
       "<Figure size 432x288 with 1 Axes>"
      ]
     },
     "metadata": {
      "needs_background": "light"
     },
     "output_type": "display_data"
    }
   ],
   "source": [
    "import numpy as np\n",
    "import matplotlib.pyplot as plt\n",
    "\n",
    "x = []\n",
    "y = []\n",
    "total = 0  # 試行数\n",
    "num_5 = 0  # 5が出た回数\n",
    "n = 5000  # サイコロを振る回数\n",
    "\n",
    "for i in range(n):\n",
    "    if np.random.randint(6)+1 == 5:\n",
    "        num_5 += 1\n",
    "    total += 1\n",
    "    x.append(i)\n",
    "    y.append(num_5/total)\n",
    "    \n",
    "plt.plot(x, y)\n",
    "plt.plot(x, [1/6]*n, linestyle=\"dashed\")\n",
    "plt.show()"
   ]
  },
  {
   "cell_type": "markdown",
   "metadata": {},
   "source": [
    "### 平均値を実装\n",
    "NumPyのaverage関数で、平均値を求めることができます。  "
   ]
  },
  {
   "cell_type": "code",
   "execution_count": 2,
   "metadata": {},
   "outputs": [
    {
     "name": "stdout",
     "output_type": "stream",
     "text": [
      "50.0\n"
     ]
    }
   ],
   "source": [
    "import numpy as np\n",
    "\n",
    "x = np.array([55, 45, 60, 40])  # 平均をとるデータ\n",
    "\n",
    "print(np.average(x))"
   ]
  },
  {
   "cell_type": "markdown",
   "metadata": {},
   "source": [
    "### 期待値を実装\n",
    "期待値は、Numpyのsum関数を用いて実装することができます。"
   ]
  },
  {
   "cell_type": "code",
   "execution_count": 3,
   "metadata": {},
   "outputs": [
    {
     "name": "stdout",
     "output_type": "stream",
     "text": [
      "205.0\n"
     ]
    }
   ],
   "source": [
    "import numpy as np\n",
    "\n",
    "p = np.array([0.8, 0.15, 0.05])  # 確率\n",
    "x = np.array([100, 500, 1000])  # 値\n",
    "\n",
    "print(np.sum(p*x))  # 期待値"
   ]
  },
  {
   "cell_type": "markdown",
   "metadata": {},
   "source": [
    "### 分散(値のばらつき具合を表す指標)を実装\n",
    "NumPyのvar関数で、分散を求めることができます。  "
   ]
  },
  {
   "cell_type": "code",
   "execution_count": 4,
   "metadata": {},
   "outputs": [
    {
     "name": "stdout",
     "output_type": "stream",
     "text": [
      "62.5\n"
     ]
    }
   ],
   "source": [
    "import numpy as np\n",
    "\n",
    "x = np.array([55, 45, 60, 40])  # 分散をとるデータ\n",
    "\n",
    "print(np.var(x))"
   ]
  },
  {
   "cell_type": "markdown",
   "metadata": {},
   "source": [
    "### 標準偏差を実装\n",
    "標準偏差も、分散と同様に値のばらつき具合の指標です。  \n",
    "標準偏差は単位の次元が元の値と同じなので、値の散らばり具合を直感的に表現する際には標準偏差が適している場合が多いです。  \n",
    "標準偏差は、Numpyのstd関数を用いて求めることができます。"
   ]
  },
  {
   "cell_type": "code",
   "execution_count": 5,
   "metadata": {},
   "outputs": [
    {
     "name": "stdout",
     "output_type": "stream",
     "text": [
      "7.905694150420948\n"
     ]
    }
   ],
   "source": [
    "import numpy as np\n",
    "\n",
    "x = np.array([55, 45, 60, 40])  # 標準偏差をとるデータ\n",
    "\n",
    "print(np.std(x))"
   ]
  },
  {
   "cell_type": "markdown",
   "metadata": {},
   "source": [
    "### 正規分布の描画\n",
    "正規分布（normal distribution）はガウス分布（Gaussian distribution）とも呼ばれ、自然界や人間の行動・性質など様々な現象に対してよく当てはまるデータの分布です。  \n",
    "確率密度関数を使って、正規分布を描画しましょう。  "
   ]
  },
  {
   "cell_type": "code",
   "execution_count": 6,
   "metadata": {},
   "outputs": [
    {
     "data": {
      "image/png": "[encoded data removed]",
      "text/plain": [
       "<Figure size 432x288 with 1 Axes>"
      ]
     },
     "metadata": {
      "needs_background": "light"
     },
     "output_type": "display_data"
    }
   ],
   "source": [
    "import numpy as np\n",
    "import matplotlib.pyplot as plt\n",
    " \n",
    "sigma = 1  # 標準偏差\n",
    "mu = 0  # 平均値\n",
    "\n",
    "x =np.linspace(-5, 5)\n",
    "y = 1/(sigma*np.sqrt(2*np.pi))*np.exp(-(x-mu)**2 / (2*sigma**2))  # 確率密度関数\n",
    "\n",
    "plt.plot(x, y)\n",
    "plt.show()"
   ]
  },
  {
   "cell_type": "markdown",
   "metadata": {},
   "source": [
    "### 乱数による正規分布\n",
    "Numpyの`random.normal`関数を使って、正規分布に従う乱数を生成します。  \n",
    "生成したデータは、Matplotlibのhist関数でヒストグラムとして表示します。  "
   ]
  },
  {
   "cell_type": "code",
   "execution_count": 7,
   "metadata": {},
   "outputs": [
    {
     "data": {
      "image/png": "[encoded data removed]",
      "text/plain": [
       "<Figure size 432x288 with 1 Axes>"
      ]
     },
     "metadata": {
      "needs_background": "light"
     },
     "output_type": "display_data"
    }
   ],
   "source": [
    "import numpy as np\n",
    "import matplotlib.pyplot as plt\n",
    " \n",
    "# 正規分布に従う乱数を生成 平均0、標準偏差1、10000個\n",
    "x = np.random.normal(0, 1, 10000)\n",
    "\n",
    "# ヒストグラム\n",
    "plt.hist(x, bins=25)  # binsは棒の数\n",
    "plt.show()"
   ]
  },
  {
   "cell_type": "markdown",
   "metadata": {},
   "source": [
    "### 共分散の実装\n",
    "共分散が大きい（正）: Xが大きいとYも大きい、Xが小さいとYも小さい傾向がある  \n",
    "共分散が 0 に近い: XとYにあまり関係はない  \n",
    "共分散が小さい（負）: Xが大きいとYは小さい、Xが小さいとYは大きい傾向がある  \n",
    "    \n",
    "共分散を、NumPyのaverage関数を使って求めます。  \n",
    "また、グラフを使って2つのデータの関係を可視化します。  "
   ]
  },
  {
   "cell_type": "code",
   "execution_count": 8,
   "metadata": {},
   "outputs": [
    {
     "name": "stdout",
     "output_type": "stream",
     "text": [
      "cov_xy 120.0\n",
      "cov_xz -160.0\n"
     ]
    },
    {
     "data": {
      "image/png": "[encoded data removed]",
      "text/plain": [
       "<Figure size 432x288 with 1 Axes>"
      ]
     },
     "metadata": {
      "needs_background": "light"
     },
     "output_type": "display_data"
    }
   ],
   "source": [
    "import numpy as np\n",
    "import matplotlib.pyplot as plt\n",
    " \n",
    "x = np.array([50, 70, 40, 60, 80])  # 数学の点数\n",
    "y = np.array([60, 80, 50, 50, 70])  # 英語の点数\n",
    "z = np.array([60, 40, 60, 40, 30])  # 国語の点数\n",
    "\n",
    "cov_xy = np.average((x-np.average(x))*(y-np.average(y)))\n",
    "print(\"cov_xy\", cov_xy)\n",
    "\n",
    "cov_xz = np.average((x-np.average(x))*(z-np.average(z)))\n",
    "print(\"cov_xz\", cov_xz)\n",
    "\n",
    "plt.scatter(x, y, marker=\"+\", label=\"xy\")\n",
    "plt.scatter(x, z, marker=\"x\", label=\"xz\")\n",
    "plt.legend()\n",
    "plt.show()"
   ]
  },
  {
   "cell_type": "markdown",
   "metadata": {},
   "source": [
    "### Pythonで相関係数を求める\n",
    "相関係数は+1に近づくと正の相関が強く、Xが大きくなるとYが大きくなる傾向が強くなります。  \n",
    "相関係数が0の場合、XとYには関係がありません。  \n",
    "相関係数は-1に近づくと負の相関が強く、Xが大きくなるとYが小さくなる傾向が強くなります。  \n",
    "\n",
    "相関係数は共分散と似ていますが、どのようなケースでも範囲が −1≦𝜌≦1 に収まるため、関係の強さを比較しやすいのがメリットです。  \n",
    "\n",
    "相関係数は、Numpyのcorrcoef関数を用いて実装することができます。  \n",
    "共分散と標準偏差を使って計算した値と比較してみましょう。  "
   ]
  },
  {
   "cell_type": "code",
   "execution_count": 9,
   "metadata": {},
   "outputs": [
    {
     "name": "stdout",
     "output_type": "stream",
     "text": [
      "[[1.         0.72760688]\n",
      " [0.72760688 1.        ]]\n",
      "0.7276068751089989\n"
     ]
    },
    {
     "data": {
      "image/png": "[encoded data removed]",
      "text/plain": [
       "<Figure size 432x288 with 1 Axes>"
      ]
     },
     "metadata": {
      "needs_background": "light"
     },
     "output_type": "display_data"
    }
   ],
   "source": [
    "import numpy as np\n",
    "import matplotlib.pyplot as plt\n",
    " \n",
    "x = np.array([50, 70, 40, 60, 80])  # 数学の点数\n",
    "y = np.array([60, 80, 50, 50, 70])  # 英語の点数\n",
    "\n",
    "print(np.corrcoef(x, y))  # 相関係数\n",
    "\n",
    "cov_xy = np.average((x-np.average(x))*(y-np.average(y)))\n",
    "print(cov_xy/(np.std(x)*np.std(y)))  # （式 1）\n",
    "\n",
    "plt.scatter(x, y)\n",
    "plt.show()"
   ]
  },
  {
   "cell_type": "markdown",
   "metadata": {},
   "source": [
    "### 尤度\n",
    "尤度（ゆうど）は、人工知能においてデータの尤も（もっとも）らしさを表すのに用います。  \n",
    "尤度は全てのデータの確率の積です。  "
   ]
  },
  {
   "cell_type": "code",
   "execution_count": 10,
   "metadata": {},
   "outputs": [
    {
     "data": {
      "image/png": "[encoded data removed]",
      "text/plain": [
       "<Figure size 432x288 with 1 Axes>"
      ]
     },
     "metadata": {
      "needs_background": "light"
     },
     "output_type": "display_data"
    }
   ],
   "source": [
    "import numpy as np\n",
    "import matplotlib.pyplot as plt\n",
    "\n",
    "x_data = np.array([2.4, 1.2, 3.5, 2.1, 4.7])\n",
    "y_data = np.zeros(5)\n",
    " \n",
    "sigma = 1  # 標準偏差\n",
    "mu = 0     # 平均値\n",
    "\n",
    "def pdf(x):\n",
    "    return 1/(sigma*np.sqrt(2*np.pi))*np.exp(-(x-mu)**2 / (2*sigma**2))  # 確率密度関数\n",
    "\n",
    "x_pdf = np.linspace(-5, 5)\n",
    "y_pdf = pdf(x_pdf)\n",
    "\n",
    "plt.scatter(x_data, y_data)\n",
    "plt.plot(x_pdf, y_pdf)\n",
    "plt.show()"
   ]
  },
  {
   "cell_type": "markdown",
   "metadata": {},
   "source": [
    "データが正規分布から外れていますね。\n",
    "このような正規分布を想定する場合、このデータはあまりもっともらしくありません。\n",
    "尤度は次のように求めることができます。"
   ]
  },
  {
   "cell_type": "code",
   "execution_count": 11,
   "metadata": {},
   "outputs": [
    {
     "name": "stdout",
     "output_type": "stream",
     "text": [
      "1.0632480805734735e-12\n"
     ]
    }
   ],
   "source": [
    "import numpy as np\n",
    "\n",
    "x_data = np.array([2.4, 1.2, 3.5, 2.1, 4.7])\n",
    " \n",
    "sigma = 1  # 標準偏差\n",
    "mu = 0     # 平均値\n",
    "\n",
    "def pdf(x):\n",
    "    return 1/(sigma*np.sqrt(2*np.pi))*np.exp(-(x-mu)**2 / (2*sigma**2))  # 確率密度関数\n",
    "\n",
    "p = pdf(x_data)    # 確率\n",
    "print(np.prod(p))  # 総乗により尤度を計算"
   ]
  },
  {
   "cell_type": "markdown",
   "metadata": {},
   "source": [
    "尤度はとても小さい値になりましたね。\n",
    "先ほどの正規分布に対して、データはあまりもっともらしくないといえます。\n",
    "\n",
    "次に、確率密度関数の標準偏差と平均値を変更します。\n",
    "標準偏差と平均値をデータのものにします。"
   ]
  },
  {
   "cell_type": "code",
   "execution_count": 12,
   "metadata": {},
   "outputs": [
    {
     "data": {
      "image/png": "[encoded data removed]",
      "text/plain": [
       "<Figure size 432x288 with 1 Axes>"
      ]
     },
     "metadata": {
      "needs_background": "light"
     },
     "output_type": "display_data"
    }
   ],
   "source": [
    "import numpy as np\n",
    "import matplotlib.pyplot as plt\n",
    "\n",
    "x_data = np.array([2.4, 1.2, 3.5, 2.1, 4.7])\n",
    "y_data = np.zeros(5)\n",
    " \n",
    "sigma = np.std(x_data)   # 標準偏差をデータのものに\n",
    "mu = np.average(x_data)  # 平均値をデータのものに\n",
    "\n",
    "def pdf(x):\n",
    "    return 1/(sigma*np.sqrt(2*np.pi))*np.exp(-(x-mu)**2 / (2*sigma**2))  # 確率密度関数\n",
    "\n",
    "x_pdf = np.linspace(-3, 7)\n",
    "y_pdf = pdf(x_pdf)\n",
    "\n",
    "plt.scatter(x_data, y_data)\n",
    "plt.plot(x_pdf, y_pdf)\n",
    "plt.show()"
   ]
  },
  {
   "cell_type": "code",
   "execution_count": 13,
   "metadata": {},
   "outputs": [
    {
     "name": "stdout",
     "output_type": "stream",
     "text": [
      "0.0003211757807192693\n"
     ]
    }
   ],
   "source": [
    "import numpy as np\n",
    "\n",
    "x_data = np.array([2.4, 1.2, 3.5, 2.1, 4.7])\n",
    " \n",
    "sigma = np.std(x_data)   # 標準偏差をデータのものに\n",
    "mu = np.average(x_data)  # 平均値をデータのものに\n",
    "\n",
    "def pdf(x):\n",
    "    return 1/(sigma*np.sqrt(2*np.pi))*np.exp(-(x-mu)**2 / (2*sigma**2))  # 確率密度関数\n",
    "\n",
    "p = pdf(x_data)    # 確率\n",
    "print(np.prod(p))  # 総乗により尤度を計算"
   ]
  },
  {
   "cell_type": "code",
   "execution_count": 14,
   "metadata": {},
   "outputs": [
    {
     "data": {
      "image/png": "[encoded data removed]",
      "text/plain": [
       "<Figure size 432x288 with 1 Axes>"
      ]
     },
     "metadata": {
      "needs_background": "light"
     },
     "output_type": "display_data"
    }
   ],
   "source": [
    "# 選択情報量をグラフ化\n",
    "# 横軸を確率、縦軸を選択情報量としたグラフを描画します。\n",
    "# 底が2の対数は、NumPyのlog2関数で計算できます。\n",
    "import numpy as np\n",
    "import matplotlib.pyplot as plt\n",
    "\n",
    "def entropy(x):\n",
    "    return -np.log2(x)  # 選択情報量\n",
    "\n",
    "x = np.linspace(0.01, 1)  # 0の対数はとれないので0.01に\n",
    "y = entropy(x)\n",
    "\n",
    "plt.plot(x, y)\n",
    "plt.show()"
   ]
  },
  {
   "cell_type": "code",
   "execution_count": null,
   "metadata": {},
   "outputs": [],
   "source": []
  }
 ],
 "metadata": {
  "kernelspec": {
   "display_name": "Python 3",
   "language": "python",
   "name": "python3"
  },
  "language_info": {
   "codemirror_mode": {
    "name": "ipython",
    "version": 3
   },
   "file_extension": ".py",
   "mimetype": "text/x-python",
   "name": "python",
   "nbconvert_exporter": "python",
   "pygments_lexer": "ipython3",
   "version": "3.8.5"
  }
 },
 "nbformat": 4,
 "nbformat_minor": 4
}
