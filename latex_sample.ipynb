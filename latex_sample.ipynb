{
 "cells": [
  {
   "cell_type": "markdown",
   "metadata": {},
   "source": [
    "### LaTeX\n",
    "\n",
    "---添字と累乗---\n",
    "$$a_1, a_{ij}, b^2, b^{ij}, c_1^2$$\n",
    "\n",
    "---多項式---\n",
    "$$y=x^3+2x^2+x+3$$\n",
    "\n",
    "---平方根---\n",
    "$$y=\\sqrt x$$\n",
    "\n",
    "---三角関数---\n",
    "$$y=\\sin x$$\n",
    "\n",
    "---分数---\n",
    "$$y=\\frac{17}{24}$$\n",
    "\n",
    "---総和---\n",
    "$$y=\\sum_{k=1}^n a_k$$\n",
    "\n",
    "---総乗---\n",
    "$$y=\\prod_{k=1}^n a_k$$"
   ]
  },
  {
   "cell_type": "code",
   "execution_count": null,
   "metadata": {},
   "outputs": [],
   "source": []
  }
 ],
 "metadata": {
  "kernelspec": {
   "display_name": "Python 3",
   "language": "python",
   "name": "python3"
  },
  "language_info": {
   "codemirror_mode": {
    "name": "ipython",
    "version": 3
   },
   "file_extension": ".py",
   "mimetype": "text/x-python",
   "name": "python",
   "nbconvert_exporter": "python",
   "pygments_lexer": "ipython3",
   "version": "3.8.5"
  }
 },
 "nbformat": 4,
 "nbformat_minor": 4
}
